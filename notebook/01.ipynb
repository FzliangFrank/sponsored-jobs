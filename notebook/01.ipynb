{
 "cells": [
  {
   "cell_type": "code",
   "execution_count": 2,
   "metadata": {},
   "outputs": [],
   "source": [
    "import pandas as pd\n",
    "import ibis\n",
    "from ibis import selectors as s \n",
    "from ibis import _\n",
    "ibis.options.interactive=True\n",
    "\n",
    "data = pd.read_csv('2024-02-02_-_Worker_and_Temporary_Worker.csv')"
   ]
  },
  {
   "cell_type": "code",
   "execution_count": 13,
   "metadata": {},
   "outputs": [
    {
     "data": {
      "text/html": [
       "<pre style=\"white-space:pre;overflow-x:auto;line-height:normal;font-family:Menlo,'DejaVu Sans Mono',consolas,'Courier New',monospace\">┏━━━━━━━━━━━━┳━━━━━━━┓\n",
       "┃<span style=\"font-weight: bold\"> town       </span>┃<span style=\"font-weight: bold\"> n     </span>┃\n",
       "┡━━━━━━━━━━━━╇━━━━━━━┩\n",
       "│ <span style=\"color: #7f7f7f; text-decoration-color: #7f7f7f\">string</span>     │ <span style=\"color: #7f7f7f; text-decoration-color: #7f7f7f\">int64</span> │\n",
       "├────────────┼───────┤\n",
       "│ <span style=\"color: #008000; text-decoration-color: #008000\">LONDON    </span> │ <span style=\"color: #008080; text-decoration-color: #008080; font-weight: bold\">24901</span> │\n",
       "│ <span style=\"color: #008000; text-decoration-color: #008000\">BIRMINGHAM</span> │  <span style=\"color: #008080; text-decoration-color: #008080; font-weight: bold\">1962</span> │\n",
       "│ <span style=\"color: #008000; text-decoration-color: #008000\">MANCHESTER</span> │  <span style=\"color: #008080; text-decoration-color: #008080; font-weight: bold\">1814</span> │\n",
       "│ <span style=\"color: #008000; text-decoration-color: #008000\">BRISTOL   </span> │   <span style=\"color: #008080; text-decoration-color: #008080; font-weight: bold\">891</span> │\n",
       "│ <span style=\"color: #008000; text-decoration-color: #008000\">LEICESTER </span> │   <span style=\"color: #008080; text-decoration-color: #008080; font-weight: bold\">878</span> │\n",
       "│ <span style=\"color: #008000; text-decoration-color: #008000\">EDINBURGH </span> │   <span style=\"color: #008080; text-decoration-color: #008080; font-weight: bold\">748</span> │\n",
       "│ <span style=\"color: #008000; text-decoration-color: #008000\">LEEDS     </span> │   <span style=\"color: #008080; text-decoration-color: #008080; font-weight: bold\">736</span> │\n",
       "│ <span style=\"color: #008000; text-decoration-color: #008000\">GLASGOW   </span> │   <span style=\"color: #008080; text-decoration-color: #008080; font-weight: bold\">732</span> │\n",
       "│ <span style=\"color: #008000; text-decoration-color: #008000\">NOTTINGHAM</span> │   <span style=\"color: #008080; text-decoration-color: #008080; font-weight: bold\">700</span> │\n",
       "│ <span style=\"color: #008000; text-decoration-color: #008000\">READING   </span> │   <span style=\"color: #008080; text-decoration-color: #008080; font-weight: bold\">664</span> │\n",
       "└────────────┴───────┘\n",
       "</pre>\n"
      ],
      "text/plain": [
       "┏━━━━━━━━━━━━┳━━━━━━━┓\n",
       "┃\u001b[1m \u001b[0m\u001b[1mtown\u001b[0m\u001b[1m      \u001b[0m\u001b[1m \u001b[0m┃\u001b[1m \u001b[0m\u001b[1mn\u001b[0m\u001b[1m    \u001b[0m\u001b[1m \u001b[0m┃\n",
       "┡━━━━━━━━━━━━╇━━━━━━━┩\n",
       "│ \u001b[2mstring\u001b[0m     │ \u001b[2mint64\u001b[0m │\n",
       "├────────────┼───────┤\n",
       "│ \u001b[32mLONDON    \u001b[0m │ \u001b[1;36m24901\u001b[0m │\n",
       "│ \u001b[32mBIRMINGHAM\u001b[0m │  \u001b[1;36m1962\u001b[0m │\n",
       "│ \u001b[32mMANCHESTER\u001b[0m │  \u001b[1;36m1814\u001b[0m │\n",
       "│ \u001b[32mBRISTOL   \u001b[0m │   \u001b[1;36m891\u001b[0m │\n",
       "│ \u001b[32mLEICESTER \u001b[0m │   \u001b[1;36m878\u001b[0m │\n",
       "│ \u001b[32mEDINBURGH \u001b[0m │   \u001b[1;36m748\u001b[0m │\n",
       "│ \u001b[32mLEEDS     \u001b[0m │   \u001b[1;36m736\u001b[0m │\n",
       "│ \u001b[32mGLASGOW   \u001b[0m │   \u001b[1;36m732\u001b[0m │\n",
       "│ \u001b[32mNOTTINGHAM\u001b[0m │   \u001b[1;36m700\u001b[0m │\n",
       "│ \u001b[32mREADING   \u001b[0m │   \u001b[1;36m664\u001b[0m │\n",
       "└────────────┴───────┘"
      ]
     },
     "metadata": {},
     "output_type": "display_data"
    },
    {
     "data": {
      "text/html": [
       "<pre style=\"white-space:pre;overflow-x:auto;line-height:normal;font-family:Menlo,'DejaVu Sans Mono',consolas,'Courier New',monospace\">┏━━━━━━━━┳━━━━━━━┓\n",
       "┃<span style=\"font-weight: bold\"> town   </span>┃<span style=\"font-weight: bold\"> n     </span>┃\n",
       "┡━━━━━━━━╇━━━━━━━┩\n",
       "│ <span style=\"color: #7f7f7f; text-decoration-color: #7f7f7f\">string</span> │ <span style=\"color: #7f7f7f; text-decoration-color: #7f7f7f\">int64</span> │\n",
       "├────────┼───────┤\n",
       "│ <span style=\"color: #008000; text-decoration-color: #008000\">EXETER</span> │   <span style=\"color: #008080; text-decoration-color: #008080; font-weight: bold\">124</span> │\n",
       "└────────┴───────┘\n",
       "</pre>\n"
      ],
      "text/plain": [
       "┏━━━━━━━━┳━━━━━━━┓\n",
       "┃\u001b[1m \u001b[0m\u001b[1mtown\u001b[0m\u001b[1m  \u001b[0m\u001b[1m \u001b[0m┃\u001b[1m \u001b[0m\u001b[1mn\u001b[0m\u001b[1m    \u001b[0m\u001b[1m \u001b[0m┃\n",
       "┡━━━━━━━━╇━━━━━━━┩\n",
       "│ \u001b[2mstring\u001b[0m │ \u001b[2mint64\u001b[0m │\n",
       "├────────┼───────┤\n",
       "│ \u001b[32mEXETER\u001b[0m │   \u001b[1;36m124\u001b[0m │\n",
       "└────────┴───────┘"
      ]
     },
     "execution_count": 13,
     "metadata": {},
     "output_type": "execute_result"
    }
   ],
   "source": [
    "t=ibis.memtable(data)\n",
    "t_clean=(\n",
    "    t\n",
    "    .mutate(town=_[\"Town/City\"].upper())\n",
    "    .filter(_.Route == 'Skilled Worker')\n",
    ")\n",
    "t_town=(\n",
    "    t_clean\n",
    "    .group_by(_.town)\n",
    "    .aggregate(n=_.count())\n",
    "    .order_by(_.n.desc())\n",
    ")\n",
    "\n",
    "display(t_town.head(10))\n",
    "t_town.filter(_.town=='EXETER')\n"
   ]
  },
  {
   "cell_type": "code",
   "execution_count": 4,
   "metadata": {},
   "outputs": [
    {
     "data": {
      "text/html": [
       "<pre style=\"white-space:pre;overflow-x:auto;line-height:normal;font-family:Menlo,'DejaVu Sans Mono',consolas,'Courier New',monospace\">┏━━━━━━━━━━━━━━━━━━━━━━━━━━━━━━━━━━━━━┳━━━━━━━━━━━┳━━━━━━━━┳━━━━━━━━━━━━━━━━━━━┳━━━━━━━━━━━━━━━━┳━━━━━━━━┓\n",
       "┃<span style=\"font-weight: bold\"> Organisation Name                   </span>┃<span style=\"font-weight: bold\"> Town/City </span>┃<span style=\"font-weight: bold\"> County </span>┃<span style=\"font-weight: bold\"> Type &amp; Rating     </span>┃<span style=\"font-weight: bold\"> Route          </span>┃<span style=\"font-weight: bold\"> town   </span>┃\n",
       "┡━━━━━━━━━━━━━━━━━━━━━━━━━━━━━━━━━━━━━╇━━━━━━━━━━━╇━━━━━━━━╇━━━━━━━━━━━━━━━━━━━╇━━━━━━━━━━━━━━━━╇━━━━━━━━┩\n",
       "│ <span style=\"color: #7f7f7f; text-decoration-color: #7f7f7f\">string</span>                              │ <span style=\"color: #7f7f7f; text-decoration-color: #7f7f7f\">string</span>    │ <span style=\"color: #7f7f7f; text-decoration-color: #7f7f7f\">string</span> │ <span style=\"color: #7f7f7f; text-decoration-color: #7f7f7f\">string</span>            │ <span style=\"color: #7f7f7f; text-decoration-color: #7f7f7f\">string</span>         │ <span style=\"color: #7f7f7f; text-decoration-color: #7f7f7f\">string</span> │\n",
       "├─────────────────────────────────────┼───────────┼────────┼───────────────────┼────────────────┼────────┤\n",
       "│ <span style=\"color: #008000; text-decoration-color: #008000\">3DFORUS Limited                    </span> │ <span style=\"color: #008000; text-decoration-color: #008000\">Exeter   </span> │ <span style=\"color: #7f7f7f; text-decoration-color: #7f7f7f\">NULL</span>   │ <span style=\"color: #008000; text-decoration-color: #008000\">Worker (A rating)</span> │ <span style=\"color: #008000; text-decoration-color: #008000\">Skilled Worker</span> │ <span style=\"color: #008000; text-decoration-color: #008000\">EXETER</span> │\n",
       "│ <span style=\"color: #008000; text-decoration-color: #008000\">A J Sands Ltd T/A Sands Consultants</span> │ <span style=\"color: #008000; text-decoration-color: #008000\">Exeter   </span> │ <span style=\"color: #008000; text-decoration-color: #008000\">Devon </span> │ <span style=\"color: #008000; text-decoration-color: #008000\">Worker (A rating)</span> │ <span style=\"color: #008000; text-decoration-color: #008000\">Skilled Worker</span> │ <span style=\"color: #008000; text-decoration-color: #008000\">EXETER</span> │\n",
       "│ <span style=\"color: #008000; text-decoration-color: #008000\">A&amp;S 2014 Ltd                       </span> │ <span style=\"color: #008000; text-decoration-color: #008000\">Exeter   </span> │ <span style=\"color: #7f7f7f; text-decoration-color: #7f7f7f\">NULL</span>   │ <span style=\"color: #008000; text-decoration-color: #008000\">Worker (A rating)</span> │ <span style=\"color: #008000; text-decoration-color: #008000\">Skilled Worker</span> │ <span style=\"color: #008000; text-decoration-color: #008000\">EXETER</span> │\n",
       "│ <span style=\"color: #008000; text-decoration-color: #008000\">A2Z SPICE LTD                      </span> │ <span style=\"color: #008000; text-decoration-color: #008000\">exeter   </span> │ <span style=\"color: #7f7f7f; text-decoration-color: #7f7f7f\">NULL</span>   │ <span style=\"color: #008000; text-decoration-color: #008000\">Worker (A rating)</span> │ <span style=\"color: #008000; text-decoration-color: #008000\">Skilled Worker</span> │ <span style=\"color: #008000; text-decoration-color: #008000\">EXETER</span> │\n",
       "│ <span style=\"color: #008000; text-decoration-color: #008000\">ABBEY 24X7 LIMITED                 </span> │ <span style=\"color: #008000; text-decoration-color: #008000\">EXETER   </span> │ <span style=\"color: #7f7f7f; text-decoration-color: #7f7f7f\">NULL</span>   │ <span style=\"color: #008000; text-decoration-color: #008000\">Worker (A rating)</span> │ <span style=\"color: #008000; text-decoration-color: #008000\">Skilled Worker</span> │ <span style=\"color: #008000; text-decoration-color: #008000\">EXETER</span> │\n",
       "│ <span style=\"color: #008000; text-decoration-color: #008000\">Alexander House                    </span> │ <span style=\"color: #008000; text-decoration-color: #008000\">Exeter   </span> │ <span style=\"color: #7f7f7f; text-decoration-color: #7f7f7f\">NULL</span>   │ <span style=\"color: #008000; text-decoration-color: #008000\">Worker (A rating)</span> │ <span style=\"color: #008000; text-decoration-color: #008000\">Skilled Worker</span> │ <span style=\"color: #008000; text-decoration-color: #008000\">EXETER</span> │\n",
       "│ <span style=\"color: #008000; text-decoration-color: #008000\">Amelia House Residential House     </span> │ <span style=\"color: #008000; text-decoration-color: #008000\">Exeter   </span> │ <span style=\"color: #008000; text-decoration-color: #008000\">Devon </span> │ <span style=\"color: #008000; text-decoration-color: #008000\">Worker (A rating)</span> │ <span style=\"color: #008000; text-decoration-color: #008000\">Skilled Worker</span> │ <span style=\"color: #008000; text-decoration-color: #008000\">EXETER</span> │\n",
       "│ <span style=\"color: #008000; text-decoration-color: #008000\">AnTech Ltd                         </span> │ <span style=\"color: #008000; text-decoration-color: #008000\">Exeter   </span> │ <span style=\"color: #008000; text-decoration-color: #008000\">Devon </span> │ <span style=\"color: #008000; text-decoration-color: #008000\">Worker (A rating)</span> │ <span style=\"color: #008000; text-decoration-color: #008000\">Skilled Worker</span> │ <span style=\"color: #008000; text-decoration-color: #008000\">EXETER</span> │\n",
       "│ <span style=\"color: #008000; text-decoration-color: #008000\">Appen (Europe) LTD                 </span> │ <span style=\"color: #008000; text-decoration-color: #008000\">Exeter   </span> │ <span style=\"color: #008000; text-decoration-color: #008000\">Devon </span> │ <span style=\"color: #008000; text-decoration-color: #008000\">Worker (A rating)</span> │ <span style=\"color: #008000; text-decoration-color: #008000\">Skilled Worker</span> │ <span style=\"color: #008000; text-decoration-color: #008000\">EXETER</span> │\n",
       "│ <span style=\"color: #008000; text-decoration-color: #008000\">Artigiano Espresso Bars limited    </span> │ <span style=\"color: #008000; text-decoration-color: #008000\">Exeter   </span> │ <span style=\"color: #7f7f7f; text-decoration-color: #7f7f7f\">NULL</span>   │ <span style=\"color: #008000; text-decoration-color: #008000\">Worker (A rating)</span> │ <span style=\"color: #008000; text-decoration-color: #008000\">Skilled Worker</span> │ <span style=\"color: #008000; text-decoration-color: #008000\">EXETER</span> │\n",
       "│ <span style=\"color: #7f7f7f; text-decoration-color: #7f7f7f\">…</span>                                   │ <span style=\"color: #7f7f7f; text-decoration-color: #7f7f7f\">…</span>         │ <span style=\"color: #7f7f7f; text-decoration-color: #7f7f7f\">…</span>      │ <span style=\"color: #7f7f7f; text-decoration-color: #7f7f7f\">…</span>                 │ <span style=\"color: #7f7f7f; text-decoration-color: #7f7f7f\">…</span>              │ <span style=\"color: #7f7f7f; text-decoration-color: #7f7f7f\">…</span>      │\n",
       "└─────────────────────────────────────┴───────────┴────────┴───────────────────┴────────────────┴────────┘\n",
       "</pre>\n"
      ],
      "text/plain": [
       "┏━━━━━━━━━━━━━━━━━━━━━━━━━━━━━━━━━━━━━┳━━━━━━━━━━━┳━━━━━━━━┳━━━━━━━━━━━━━━━━━━━┳━━━━━━━━━━━━━━━━┳━━━━━━━━┓\n",
       "┃\u001b[1m \u001b[0m\u001b[1mOrganisation Name\u001b[0m\u001b[1m                  \u001b[0m\u001b[1m \u001b[0m┃\u001b[1m \u001b[0m\u001b[1mTown/City\u001b[0m\u001b[1m \u001b[0m┃\u001b[1m \u001b[0m\u001b[1mCounty\u001b[0m\u001b[1m \u001b[0m┃\u001b[1m \u001b[0m\u001b[1mType & Rating\u001b[0m\u001b[1m    \u001b[0m\u001b[1m \u001b[0m┃\u001b[1m \u001b[0m\u001b[1mRoute\u001b[0m\u001b[1m         \u001b[0m\u001b[1m \u001b[0m┃\u001b[1m \u001b[0m\u001b[1mtown\u001b[0m\u001b[1m  \u001b[0m\u001b[1m \u001b[0m┃\n",
       "┡━━━━━━━━━━━━━━━━━━━━━━━━━━━━━━━━━━━━━╇━━━━━━━━━━━╇━━━━━━━━╇━━━━━━━━━━━━━━━━━━━╇━━━━━━━━━━━━━━━━╇━━━━━━━━┩\n",
       "│ \u001b[2mstring\u001b[0m                              │ \u001b[2mstring\u001b[0m    │ \u001b[2mstring\u001b[0m │ \u001b[2mstring\u001b[0m            │ \u001b[2mstring\u001b[0m         │ \u001b[2mstring\u001b[0m │\n",
       "├─────────────────────────────────────┼───────────┼────────┼───────────────────┼────────────────┼────────┤\n",
       "│ \u001b[32m3DFORUS Limited                    \u001b[0m │ \u001b[32mExeter   \u001b[0m │ \u001b[2mNULL\u001b[0m   │ \u001b[32mWorker (A rating)\u001b[0m │ \u001b[32mSkilled Worker\u001b[0m │ \u001b[32mEXETER\u001b[0m │\n",
       "│ \u001b[32mA J Sands Ltd T/A Sands Consultants\u001b[0m │ \u001b[32mExeter   \u001b[0m │ \u001b[32mDevon \u001b[0m │ \u001b[32mWorker (A rating)\u001b[0m │ \u001b[32mSkilled Worker\u001b[0m │ \u001b[32mEXETER\u001b[0m │\n",
       "│ \u001b[32mA&S 2014 Ltd                       \u001b[0m │ \u001b[32mExeter   \u001b[0m │ \u001b[2mNULL\u001b[0m   │ \u001b[32mWorker (A rating)\u001b[0m │ \u001b[32mSkilled Worker\u001b[0m │ \u001b[32mEXETER\u001b[0m │\n",
       "│ \u001b[32mA2Z SPICE LTD                      \u001b[0m │ \u001b[32mexeter   \u001b[0m │ \u001b[2mNULL\u001b[0m   │ \u001b[32mWorker (A rating)\u001b[0m │ \u001b[32mSkilled Worker\u001b[0m │ \u001b[32mEXETER\u001b[0m │\n",
       "│ \u001b[32mABBEY 24X7 LIMITED                 \u001b[0m │ \u001b[32mEXETER   \u001b[0m │ \u001b[2mNULL\u001b[0m   │ \u001b[32mWorker (A rating)\u001b[0m │ \u001b[32mSkilled Worker\u001b[0m │ \u001b[32mEXETER\u001b[0m │\n",
       "│ \u001b[32mAlexander House                    \u001b[0m │ \u001b[32mExeter   \u001b[0m │ \u001b[2mNULL\u001b[0m   │ \u001b[32mWorker (A rating)\u001b[0m │ \u001b[32mSkilled Worker\u001b[0m │ \u001b[32mEXETER\u001b[0m │\n",
       "│ \u001b[32mAmelia House Residential House     \u001b[0m │ \u001b[32mExeter   \u001b[0m │ \u001b[32mDevon \u001b[0m │ \u001b[32mWorker (A rating)\u001b[0m │ \u001b[32mSkilled Worker\u001b[0m │ \u001b[32mEXETER\u001b[0m │\n",
       "│ \u001b[32mAnTech Ltd                         \u001b[0m │ \u001b[32mExeter   \u001b[0m │ \u001b[32mDevon \u001b[0m │ \u001b[32mWorker (A rating)\u001b[0m │ \u001b[32mSkilled Worker\u001b[0m │ \u001b[32mEXETER\u001b[0m │\n",
       "│ \u001b[32mAppen (Europe) LTD                 \u001b[0m │ \u001b[32mExeter   \u001b[0m │ \u001b[32mDevon \u001b[0m │ \u001b[32mWorker (A rating)\u001b[0m │ \u001b[32mSkilled Worker\u001b[0m │ \u001b[32mEXETER\u001b[0m │\n",
       "│ \u001b[32mArtigiano Espresso Bars limited    \u001b[0m │ \u001b[32mExeter   \u001b[0m │ \u001b[2mNULL\u001b[0m   │ \u001b[32mWorker (A rating)\u001b[0m │ \u001b[32mSkilled Worker\u001b[0m │ \u001b[32mEXETER\u001b[0m │\n",
       "│ \u001b[2m…\u001b[0m                                   │ \u001b[2m…\u001b[0m         │ \u001b[2m…\u001b[0m      │ \u001b[2m…\u001b[0m                 │ \u001b[2m…\u001b[0m              │ \u001b[2m…\u001b[0m      │\n",
       "└─────────────────────────────────────┴───────────┴────────┴───────────────────┴────────────────┴────────┘"
      ]
     },
     "execution_count": 4,
     "metadata": {},
     "output_type": "execute_result"
    }
   ],
   "source": [
    "t_clean.filter(_.town=='EXETER')"
   ]
  },
  {
   "cell_type": "markdown",
   "metadata": {},
   "source": [
    "### Check if Company has Sponsor"
   ]
  },
  {
   "cell_type": "code",
   "execution_count": 5,
   "metadata": {},
   "outputs": [
    {
     "data": {
      "text/html": [
       "<pre style=\"white-space:pre;overflow-x:auto;line-height:normal;font-family:Menlo,'DejaVu Sans Mono',consolas,'Courier New',monospace\">┏━━━━━━━━━━━━━━━━━━━┳━━━━━━━━━━━┳━━━━━━━━┳━━━━━━━━━━━━━━━━━━━┳━━━━━━━━━━━━━━━━┓\n",
       "┃<span style=\"font-weight: bold\"> Organisation Name </span>┃<span style=\"font-weight: bold\"> Town/City </span>┃<span style=\"font-weight: bold\"> County </span>┃<span style=\"font-weight: bold\"> Type &amp; Rating     </span>┃<span style=\"font-weight: bold\"> Route          </span>┃\n",
       "┡━━━━━━━━━━━━━━━━━━━╇━━━━━━━━━━━╇━━━━━━━━╇━━━━━━━━━━━━━━━━━━━╇━━━━━━━━━━━━━━━━┩\n",
       "│ <span style=\"color: #7f7f7f; text-decoration-color: #7f7f7f\">string</span>            │ <span style=\"color: #7f7f7f; text-decoration-color: #7f7f7f\">string</span>    │ <span style=\"color: #7f7f7f; text-decoration-color: #7f7f7f\">string</span> │ <span style=\"color: #7f7f7f; text-decoration-color: #7f7f7f\">string</span>            │ <span style=\"color: #7f7f7f; text-decoration-color: #7f7f7f\">string</span>         │\n",
       "├───────────────────┼───────────┼────────┼───────────────────┼────────────────┤\n",
       "│ <span style=\"color: #008000; text-decoration-color: #008000\">Vitrifi Limited  </span> │ <span style=\"color: #008000; text-decoration-color: #008000\">London   </span> │ <span style=\"color: #7f7f7f; text-decoration-color: #7f7f7f\">NULL</span>   │ <span style=\"color: #008000; text-decoration-color: #008000\">Worker (A rating)</span> │ <span style=\"color: #008000; text-decoration-color: #008000\">Skilled Worker</span> │\n",
       "└───────────────────┴───────────┴────────┴───────────────────┴────────────────┘\n",
       "</pre>\n"
      ],
      "text/plain": [
       "┏━━━━━━━━━━━━━━━━━━━┳━━━━━━━━━━━┳━━━━━━━━┳━━━━━━━━━━━━━━━━━━━┳━━━━━━━━━━━━━━━━┓\n",
       "┃\u001b[1m \u001b[0m\u001b[1mOrganisation Name\u001b[0m\u001b[1m \u001b[0m┃\u001b[1m \u001b[0m\u001b[1mTown/City\u001b[0m\u001b[1m \u001b[0m┃\u001b[1m \u001b[0m\u001b[1mCounty\u001b[0m\u001b[1m \u001b[0m┃\u001b[1m \u001b[0m\u001b[1mType & Rating\u001b[0m\u001b[1m    \u001b[0m\u001b[1m \u001b[0m┃\u001b[1m \u001b[0m\u001b[1mRoute\u001b[0m\u001b[1m         \u001b[0m\u001b[1m \u001b[0m┃\n",
       "┡━━━━━━━━━━━━━━━━━━━╇━━━━━━━━━━━╇━━━━━━━━╇━━━━━━━━━━━━━━━━━━━╇━━━━━━━━━━━━━━━━┩\n",
       "│ \u001b[2mstring\u001b[0m            │ \u001b[2mstring\u001b[0m    │ \u001b[2mstring\u001b[0m │ \u001b[2mstring\u001b[0m            │ \u001b[2mstring\u001b[0m         │\n",
       "├───────────────────┼───────────┼────────┼───────────────────┼────────────────┤\n",
       "│ \u001b[32mVitrifi Limited  \u001b[0m │ \u001b[32mLondon   \u001b[0m │ \u001b[2mNULL\u001b[0m   │ \u001b[32mWorker (A rating)\u001b[0m │ \u001b[32mSkilled Worker\u001b[0m │\n",
       "└───────────────────┴───────────┴────────┴───────────────────┴────────────────┘"
      ]
     },
     "execution_count": 5,
     "metadata": {},
     "output_type": "execute_result"
    }
   ],
   "source": [
    "t.filter(_['Organisation Name'].contains('Vitrifi'))"
   ]
  },
  {
   "cell_type": "markdown",
   "metadata": {},
   "source": [
    "### Get a list of Company House Companies"
   ]
  },
  {
   "cell_type": "code",
   "execution_count": 2,
   "metadata": {},
   "outputs": [],
   "source": [
    "import requests\n",
    "from requests.auth import HTTPBasicAuth as Auth\n",
    "\n",
    "# stream_key='ce33ea20-3dd9-4cbe-8a57-1ad0396d7c78'\n",
    "rest_key = 'a66a1cd0-cf10-4c36-9759-6a4d0b3b8053'\n",
    "# steam_url='https://stream.companieshouse.gov.uk/companies'\n",
    "rest_url='https://api.company-information.service.gov.uk/advanced-search/companies'\n",
    "r = requests.get(\n",
    "    rest_url,\n",
    "    auth=(rest_key,'')\n",
    "    )\n",
    "assert r.status_code==200\n",
    "cps = r.json().get('items')"
   ]
  },
  {
   "cell_type": "code",
   "execution_count": 7,
   "metadata": {},
   "outputs": [],
   "source": [
    "rest_url='https://api.company-information.service.gov.uk/search'\n",
    "r = requests.get(\n",
    "    rest_url,\n",
    "    auth=(rest_key,''),\n",
    "    params={'q':'Full Fibre'}\n",
    "    )\n",
    "assert r.status_code==200\n",
    "cps = r.json().get('items')"
   ]
  },
  {
   "cell_type": "code",
   "execution_count": 17,
   "metadata": {},
   "outputs": [],
   "source": [
    "import pandas as pd\n",
    "import polars as pl\n",
    "# pl.DataFrame(cps)"
   ]
  },
  {
   "cell_type": "code",
   "execution_count": 25,
   "metadata": {},
   "outputs": [],
   "source": [
    "# from linkedin import linkedin\n",
    "CLIENT='78wtdy9ojz691l'\n",
    "SECRET='HIEr80EKn1HoM2bf'\n",
    "RETURN_URL = 'http://localhost:8000'\n",
    "\n",
    "authentication = linkedin.LinkedInAuthentication(\n",
    "                    CLIENT,\n",
    "                    SECRET,\n",
    "                    RETURN_URL,\n",
    "                    linkedin.PERMISSIONS.enums.values()\n",
    "                )\n",
    "authentication.state"
   ]
  },
  {
   "cell_type": "code",
   "execution_count": 26,
   "metadata": {},
   "outputs": [],
   "source": [
    "TOKEN='AQVV0_b4MMsKlnDnoRERuliSj0lbd_0UyXKQazy7EN3cvzg_DpUYduXVxKh1eYmJC8aYWRoTnJfrFAcwOANVydv2SIF5EiRYCQXWFUEs6NBWCLCE-Oi1mPrDxvAud1U8WKdVDXlSokb1XwVCPv0a_LNDjNZ0sNBucD55DELt5zdLfx53rbKqIwA0eajo4UwxsEJduJHrvvZ7vW-3U_r5Dpo4d2S4cGa6kKQu5d7u64OtYVFyJsDkht3AXg71RcywBbexOXVBU7K2ZfEmp-_z4f2RAp3ivFotNjq-xqGmvj5l4kssPygrzSKCV_nwYBCZWsqSDhkBTZ31xQqtQcdS8iNEkfwcGQ'"
   ]
  },
  {
   "cell_type": "code",
   "execution_count": 30,
   "metadata": {},
   "outputs": [],
   "source": [
    "from linkedin_api.clients.restli.client import RestliClient\n",
    "\n",
    "restli_client = RestliClient()\n",
    "\n",
    "# response = restli_client.get(\n",
    "#   resource_path=\"/userinfo\",\n",
    "#   access_token=TOKEN\n",
    "# )\n",
    "# print(response.entity)\n",
    "response = restli_client.finder(\n",
    "  resource_path=\"/adAccounts\",\n",
    "  finder_name=\"search\",\n",
    "  query_params={\n",
    "    \"search\": {\n",
    "      \"status\": {\n",
    "        \"values\": [\"ACTIVE\", \"DRAFT\"]\n",
    "      },\n",
    "      \"reference\": {\n",
    "        \"values\": [\"urn:li:organization:123\"]\n",
    "      },\n",
    "      \"test\": True\n",
    "    }\n",
    "  },\n",
    "  version_string=\"202212\",\n",
    "  access_token=TOKEN\n",
    ")\n",
    "ad_accounts = response.elements"
   ]
  },
  {
   "cell_type": "markdown",
   "metadata": {},
   "source": [
    "### Linkedin Job Scrapper"
   ]
  },
  {
   "cell_type": "code",
   "execution_count": 33,
   "metadata": {},
   "outputs": [],
   "source": [
    "LI_AT_COOKIE='AQEDASNg818EzqL8AAABjZrgniMAAAGNvu0iI04ARx1E_aPuXAJYfbHnU7fpUmbqTAV195FTdpws7bULRtzcfylM1WQbugwNlOClc4CfVMwHoMeZhKK6nq136vcgR'\n",
    "# this just has to reset everytime\n",
    "import os \n",
    "os.environ['LI_AT_COOKIE']=LI_AT_COOKIE"
   ]
  },
  {
   "cell_type": "code",
   "execution_count": null,
   "metadata": {},
   "outputs": [],
   "source": [
    "import logging\n",
    "from linkedin_jobs_scraper import LinkedinScraper\n",
    "from linkedin_jobs_scraper.events import Events, EventData, EventMetrics\n",
    "from linkedin_jobs_scraper.query import Query, QueryOptions, QueryFilters\n",
    "from linkedin_jobs_scraper.filters import RelevanceFilters, TimeFilters, TypeFilters, ExperienceLevelFilters, \\\n",
    "    OnSiteOrRemoteFilters\n",
    "\n",
    "# Change root logger level (default is WARN)\n",
    "logging.basicConfig(level=logging.INFO)\n",
    "\n",
    "\n",
    "# Fired once for each successfully processed job\n",
    "def on_data(data: EventData):\n",
    "    print('[ON_DATA]', data.title, data.company, data.company_link, data.date, data.link, data.insights,\n",
    "          len(data.description))\n",
    "\n",
    "# Fired once for each page (25 jobs)\n",
    "def on_metrics(metrics: EventMetrics):\n",
    "    print('[ON_METRICS]', str(metrics))\n",
    "\n",
    "def on_error(error):\n",
    "    print('[ON_ERROR]', error)\n",
    "\n",
    "def on_end():\n",
    "    print('[ON_END]')\n",
    "\n",
    "\n",
    "scraper = LinkedinScraper(\n",
    "    chrome_executable_path=None,  # Custom Chrome executable path (e.g. /foo/bar/bin/chromedriver)\n",
    "    chrome_binary_location=None,  # Custom path to Chrome/Chromium binary (e.g. /foo/bar/chrome-mac/Chromium.app/Contents/MacOS/Chromium)\n",
    "    chrome_options=None,  # Custom Chrome options here\n",
    "    headless=True,  # Overrides headless mode only if chrome_options is None\n",
    "    max_workers=1,  # How many threads will be spawned to run queries concurrently (one Chrome driver for each thread)\n",
    "    slow_mo=0.5,  # Slow down the scraper to avoid 'Too many requests 429' errors (in seconds)\n",
    "    page_load_timeout=40  # Page load timeout (in seconds)    \n",
    ")\n",
    "\n",
    "# Add event listeners\n",
    "scraper.on(Events.DATA, on_data)\n",
    "scraper.on(Events.ERROR, on_error)\n",
    "scraper.on(Events.END, on_end)\n",
    "\n",
    "queries = [\n",
    "    Query(\n",
    "        options=QueryOptions(\n",
    "            limit=27  # Limit the number of jobs to scrape.            \n",
    "        )\n",
    "    ),\n",
    "    Query(\n",
    "        query='Data Analyst',\n",
    "        options=QueryOptions(\n",
    "            locations=['United Kingdom', 'Europe'],\n",
    "            apply_link=True,  # Try to extract apply link (easy applies are skipped). If set to True, scraping is slower because an additional page must be navigated. Default to False.\n",
    "            skip_promoted_jobs=True,  # Skip promoted jobs. Default to False.\n",
    "            page_offset=2,  # How many pages to skip\n",
    "            limit=5,\n",
    "            filters=QueryFilters(\n",
    "                company_jobs_url='https://www.linkedin.com/jobs/search/?f_C=1441%2C17876832%2C791962%2C2374003%2C18950635%2C16140%2C10440912&geoId=92000000',  # Filter by companies.                \n",
    "                relevance=RelevanceFilters.RECENT,\n",
    "                time=TimeFilters.MONTH,\n",
    "                type=[TypeFilters.FULL_TIME, TypeFilters.INTERNSHIP],\n",
    "                on_site_or_remote=[OnSiteOrRemoteFilters.REMOTE],\n",
    "                experience=[ExperienceLevelFilters.MID_SENIOR]\n",
    "            )\n",
    "        )\n",
    "    ),\n",
    "]\n",
    "\n",
    "scraper.run(queries)"
   ]
  },
  {
   "cell_type": "code",
   "execution_count": 42,
   "metadata": {},
   "outputs": [
    {
     "data": {
      "text/plain": [
       "<linkedin_jobs_scraper.query.query.QueryFilters at 0x13781e410>"
      ]
     },
     "execution_count": 42,
     "metadata": {},
     "output_type": "execute_result"
    }
   ],
   "source": [
    "QueryFilters(\n",
    "                company_jobs_url='https://www.linkedin.com/jobs/search/?f_C=1441%2C17876832%2C791962%2C2374003%2C18950635%2C16140%2C10440912&geoId=92000000',  # Filter by companies.                \n",
    "                relevance=RelevanceFilters.RECENT,\n",
    "                time=TimeFilters.MONTH,\n",
    "                type=[TypeFilters.FULL_TIME, TypeFilters.INTERNSHIP],\n",
    "                on_site_or_remote=[OnSiteOrRemoteFilters.REMOTE],\n",
    "                experience=[ExperienceLevelFilters.MID_SENIOR]\n",
    "            )"
   ]
  }
 ],
 "metadata": {
  "kernelspec": {
   "display_name": "Python 3",
   "language": "python",
   "name": "python3"
  },
  "language_info": {
   "codemirror_mode": {
    "name": "ipython",
    "version": 3
   },
   "file_extension": ".py",
   "mimetype": "text/x-python",
   "name": "python",
   "nbconvert_exporter": "python",
   "pygments_lexer": "ipython3",
   "version": "3.11.2"
  }
 },
 "nbformat": 4,
 "nbformat_minor": 2
}
