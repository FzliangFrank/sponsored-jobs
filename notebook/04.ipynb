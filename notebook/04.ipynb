{
 "cells": [
  {
   "cell_type": "markdown",
   "metadata": {},
   "source": [
    "## Create Authentication For GCloud\n",
    "\n",
    "Use gcloud to access `bigquery` fall under the category of `ADC` authentication. \n",
    "\n",
    "When you develop under this folder your folder is strictly a \"local development\" environment. IAM (Identity and Access Management) on the other hand is real people.\n",
    "\n",
    "ADC target those who wants to develop local and in deployment without worying. \n",
    "\n",
    "[resource](https://cloud.google.com/docs/authentication/provide-credentials-adc#how-to)\n",
    "\n",
    "Ther maybe specific work you need to do\n",
    "For Cloud run -> [see Using Workload Identity for Cloud Run for Anthos](https://cloud.google.com/anthos/run/docs/securing/workload-identity).\n",
    "\n",
    "*How does it work?*\n",
    "\n",
    "- Environment Variable `$GOOGLE_APPLICATION_CREDENTIALS` environment variable...\n",
    "- Default Location...\n",
    "\n",
    "I tryed set up this locally but this did not work. \n",
    "\n",
    "\n",
    "## Submit App to GCloud\n",
    "\n",
    "\n",
    "*Submit python App to GCloud?* \n",
    "\n",
    "You don't have to build locally. `gcloud builds submit --tag .` does the job.... but not sure how it does so with out a docker file? \n",
    "https://cloud.google.com/python/docs/getting-started\n",
    "\n",
    "This was build success. You need to understand two thing before deploy: \n",
    "\n",
    "- artificial register\n",
    "- docker image\n",
    "\n",
    "\n",
    "Example:\n",
    "```sh\n",
    "gcloud builds submit --tag eu.gcr.io/visa-sponsor-uk/checker-app .\n",
    "```\n",
    "\n",
    "This turns out to create a repo called `eu.gcr.io` as a repo under my project, and create one image called `checker-app`. Because I didn't add a version tag like `<image>:tag1`. gcloud just create one for me.\n",
    "`$ gcloud topic gcloudignore` this flag comes out seems interesting. \n",
    "\n",
    "*base docker submission?*\n",
    "\n",
    "You can push by using docker push, your image need tagged correctly and you have to set up a `repo`\n",
    "\n",
    "\n",
    "I am highly concious that this will cost me a fortune overtime...\n"
   ]
  },
  {
   "cell_type": "markdown",
   "metadata": {},
   "source": []
  },
  {
   "cell_type": "code",
   "execution_count": 14,
   "metadata": {},
   "outputs": [],
   "source": [
    "import ibis\n",
    "conn=ibis.bigquery.connect(\n",
    "        project_id='visa-sponsor-uk',\n",
    "        dataset_id='public'\n",
    "    )"
   ]
  },
  {
   "cell_type": "code",
   "execution_count": 17,
   "metadata": {},
   "outputs": [
    {
     "data": {
      "text/plain": [
       "['company_name', 'location', 'county', 'rating', 'visa_type']"
      ]
     },
     "execution_count": 17,
     "metadata": {},
     "output_type": "execute_result"
    }
   ],
   "source": [
    "tbl=conn.table('public.registered_sponsors')\n",
    "tbl.filer(\n",
    "    \n",
    ")"
   ]
  },
  {
   "cell_type": "code",
   "execution_count": 40,
   "metadata": {},
   "outputs": [
    {
     "data": {
      "text/html": [
       "<pre style=\"white-space:pre;overflow-x:auto;line-height:normal;font-family:Menlo,'DejaVu Sans Mono',consolas,'Courier New',monospace\">r0 := DatabaseTable: registered_sponsors\n",
       "  company_name string\n",
       "  location     string\n",
       "  county       string\n",
       "  rating       string\n",
       "  visa_type    string\n",
       "\n",
       "Selection[r0]\n",
       "  predicates:\n",
       "    RegexSearch(r0.company_name, pattern='Full Fibre')\n",
       "</pre>\n"
      ],
      "text/plain": [
       "r0 := DatabaseTable: registered_sponsors\n",
       "  company_name string\n",
       "  location     string\n",
       "  county       string\n",
       "  rating       string\n",
       "  visa_type    string\n",
       "\n",
       "Selection[r0]\n",
       "  predicates:\n",
       "    RegexSearch(r0.company_name, pattern='Full Fibre')"
      ]
     },
     "execution_count": 40,
     "metadata": {},
     "output_type": "execute_result"
    }
   ],
   "source": [
    "from ibis import _\n",
    "\n",
    "input_string = 'Full Fibre'\n",
    "ibis.options.interactive=False\n",
    "# def load_cache()\n",
    "\n",
    "# search database\n",
    "exp=tbl.filter(_.company_name.re_search(input_string))\n",
    "max_results=exp.count().to_pandas()\n",
    "results = exp.limit(3).to_pandas()"
   ]
  },
  {
   "cell_type": "code",
   "execution_count": 37,
   "metadata": {},
   "outputs": [],
   "source": [
    "# d=results.to_dict(\"records\")\n",
    "# import pandas as pd\n",
    "# pd.DataFrame(d)\n",
    "search_term=\"Apple\"\n",
    "x = tbl.filter(_.company_name.re_search(search_term))\n",
    "x.count()\n",
    "\n"
   ]
  }
 ],
 "metadata": {
  "kernelspec": {
   "display_name": "Python 3",
   "language": "python",
   "name": "python3"
  },
  "language_info": {
   "codemirror_mode": {
    "name": "ipython",
    "version": 3
   },
   "file_extension": ".py",
   "mimetype": "text/x-python",
   "name": "python",
   "nbconvert_exporter": "python",
   "pygments_lexer": "ipython3",
   "version": "3.11.2"
  }
 },
 "nbformat": 4,
 "nbformat_minor": 2
}
